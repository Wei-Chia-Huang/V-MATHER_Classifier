{
 "cells": [
  {
   "cell_type": "code",
   "execution_count": 11,
   "metadata": {},
   "outputs": [
    {
     "name": "stdout",
     "output_type": "stream",
     "text": [
      "Divide[72, 35] / Divide[60, 55]\n",
      "Divide[34, 75] / Divide[41, 43]\n",
      "Divide[80, 36] + Divide[26, 32]\n",
      "Divide[79, 62] - Divide[87, 8]\n",
      "Divide[85, 58] * 4\n",
      "Divide[54, 79] * Divide[88, 34]\n",
      "Divide[25, 17] / Divide[36, 81]\n",
      "Divide[63, 54] + Divide[73, 39]\n",
      "Divide[35, 51] / Divide[66, 89]\n",
      "Divide[80, 7] + Divide[97, 35]\n"
     ]
    }
   ],
   "source": [
    "import random\n",
    "\n",
    "# 生成兩正分數運算的題目\n",
    "def generate_fraction_equation():\n",
    "    # 隨機產生兩個數值，可能是整數或分數\n",
    "    value1 = f\"Divide[{random.randint(0, 100)}, {random.randint(0, 100)}]\" \n",
    "    value2 = f\"Divide[{random.randint(0, 100)}, {random.randint(0, 100)}]\"\n",
    "\n",
    "    # 隨機選擇加減乘除運算符號  \n",
    "    operator = random.choice([\"+\", \"-\", \"*\", \"/\"])\n",
    "\n",
    "    # 提取兩分數的分子跟分母\n",
    "    value1_numerator, value1_denominator = numerator_and_denominator(value1)\n",
    "    value2_numerator, value2_denominator = numerator_and_denominator(value2)\n",
    "\n",
    "    # 若分數可整除，視為整數\n",
    "    if value1_numerator % value1_denominator == 0:\n",
    "        value1 = value1_numerator // value1_denominator \n",
    "    if value2_numerator % value2_denominator == 0:\n",
    "        value2 = value2_numerator // value2_denominator\n",
    "\n",
    "    return f\"{value1} {operator} {value2}\"\n",
    "\n",
    "# 提取分子跟分母\n",
    "def numerator_and_denominator(fraction):\n",
    "    # 使用 split 函式切割字串，取得 [] 中的字串\n",
    "    parts = fraction.split(\"[\")[1].split(\"]\")[0].split(\",\")\n",
    "\n",
    "    # 取得分子與分母，並轉換成整數\n",
    "    numerator = int(parts[0].strip())\n",
    "    denominator = int(parts[1].strip())\n",
    "\n",
    "    # 回傳結果\n",
    "    return numerator, denominator\n",
    "\n",
    "i = 0\n",
    "while i < 10:\n",
    "    question = generate_fraction_equation()\n",
    "    print(question)\n",
    "    i += 1"
   ]
  },
  {
   "cell_type": "code",
   "execution_count": 8,
   "metadata": {},
   "outputs": [
    {
     "name": "stdout",
     "output_type": "stream",
     "text": [
      "5, 6\n"
     ]
    }
   ],
   "source": [
    "def catch(fraction):\n",
    "    # 使用 split 函式切割字串\n",
    "    parts = fraction.split(\"[\")[1].split(\"]\")[0].split(\",\")\n",
    "    # 取得分子與分母，並轉換成整數\n",
    "    numerator = int(parts[0].strip())\n",
    "    denominator = int(parts[1].strip())\n",
    "    # 回傳分子與分母的字串\n",
    "    return f\"{numerator}, {denominator}\"\n",
    "\n",
    "\n",
    "print(catch(\"Divide[5, 6]\"))"
   ]
  }
 ],
 "metadata": {
  "kernelspec": {
   "display_name": "Python 3",
   "language": "python",
   "name": "python3"
  },
  "language_info": {
   "codemirror_mode": {
    "name": "ipython",
    "version": 3
   },
   "file_extension": ".py",
   "mimetype": "text/x-python",
   "name": "python",
   "nbconvert_exporter": "python",
   "pygments_lexer": "ipython3",
   "version": "3.10.7"
  },
  "orig_nbformat": 4,
  "vscode": {
   "interpreter": {
    "hash": "369f2c481f4da34e4445cda3fffd2e751bd1c4d706f27375911949ba6bb62e1c"
   }
  }
 },
 "nbformat": 4,
 "nbformat_minor": 2
}
